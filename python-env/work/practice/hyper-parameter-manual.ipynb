{
 "cells": [
  {
   "cell_type": "code",
   "execution_count": 1,
   "id": "59d57628",
   "metadata": {},
   "outputs": [],
   "source": [
    "import numpy as np\n",
    "import pandas as pd"
   ]
  },
  {
   "cell_type": "code",
   "execution_count": 2,
   "id": "f6f4f5c8",
   "metadata": {},
   "outputs": [],
   "source": [
    "from sklearn.datasets import load_breast_cancer"
   ]
  },
  {
   "cell_type": "code",
   "execution_count": 3,
   "id": "d828a94d",
   "metadata": {},
   "outputs": [],
   "source": [
    "dataset = load_breast_cancer()"
   ]
  },
  {
   "cell_type": "code",
   "execution_count": 4,
   "id": "4c27d16c",
   "metadata": {},
   "outputs": [],
   "source": [
    "t = dataset.target\n",
    "x = dataset.data"
   ]
  },
  {
   "cell_type": "code",
   "execution_count": 5,
   "id": "dd552ade",
   "metadata": {},
   "outputs": [
    {
     "data": {
      "text/plain": [
       "((569, 30), (569,))"
      ]
     },
     "execution_count": 5,
     "metadata": {},
     "output_type": "execute_result"
    }
   ],
   "source": [
    "x.shape, t.shape"
   ]
  },
  {
   "cell_type": "code",
   "execution_count": 6,
   "id": "b4120894",
   "metadata": {},
   "outputs": [],
   "source": [
    "from sklearn.model_selection import train_test_split"
   ]
  },
  {
   "cell_type": "code",
   "execution_count": 7,
   "id": "a887cca3",
   "metadata": {},
   "outputs": [],
   "source": [
    "x_train_val, x_test, t_train_val, t_test = train_test_split(x, t, test_size=0.2, random_state=1)"
   ]
  },
  {
   "cell_type": "code",
   "execution_count": 8,
   "id": "cff3c926",
   "metadata": {},
   "outputs": [],
   "source": [
    "x_train, x_val, t_train, t_val = train_test_split(x_train_val, t_train_val, test_size=0.3, random_state=1)"
   ]
  },
  {
   "cell_type": "code",
   "execution_count": 9,
   "id": "56c6dc20",
   "metadata": {},
   "outputs": [
    {
     "data": {
      "text/plain": [
       "((318, 30), (137, 30), (114, 30))"
      ]
     },
     "execution_count": 9,
     "metadata": {},
     "output_type": "execute_result"
    }
   ],
   "source": [
    "x_train.shape, x_val.shape, x_test.shape"
   ]
  },
  {
   "cell_type": "code",
   "execution_count": 10,
   "id": "faa71e55",
   "metadata": {},
   "outputs": [],
   "source": [
    "from sklearn.tree import DecisionTreeClassifier"
   ]
  },
  {
   "cell_type": "code",
   "execution_count": 11,
   "id": "551c3669",
   "metadata": {},
   "outputs": [],
   "source": [
    "# manual set hyper parameter\n",
    "# dtree = DecisionTreeClassifier(random_state=0)\n",
    "dtree = DecisionTreeClassifier(max_depth=10, min_samples_split=30, random_state=0)"
   ]
  },
  {
   "cell_type": "code",
   "execution_count": 12,
   "id": "f0ec6230",
   "metadata": {},
   "outputs": [
    {
     "data": {
      "text/plain": [
       "DecisionTreeClassifier(max_depth=10, min_samples_split=30, random_state=0)"
      ]
     },
     "execution_count": 12,
     "metadata": {},
     "output_type": "execute_result"
    }
   ],
   "source": [
    "dtree.fit(x_train, t_train)"
   ]
  },
  {
   "cell_type": "code",
   "execution_count": 13,
   "id": "2abc2686",
   "metadata": {},
   "outputs": [
    {
     "name": "stdout",
     "output_type": "stream",
     "text": [
      "train socre: 0.9308176100628931\n",
      "val socre: 0.9562043795620438\n"
     ]
    }
   ],
   "source": [
    "print(f'train socre: {dtree.score(x_train, t_train)}')\n",
    "print(f'val socre: {dtree.score(x_val, t_val)}')"
   ]
  },
  {
   "cell_type": "code",
   "execution_count": 14,
   "id": "d4b896fb",
   "metadata": {},
   "outputs": [
    {
     "name": "stdout",
     "output_type": "stream",
     "text": [
      "test socre: 0.9298245614035088\n"
     ]
    }
   ],
   "source": [
    "print(f'test socre: {dtree.score(x_test, t_test)}')"
   ]
  },
  {
   "cell_type": "code",
   "execution_count": null,
   "id": "b58c7f26",
   "metadata": {},
   "outputs": [],
   "source": []
  }
 ],
 "metadata": {
  "kernelspec": {
   "display_name": "Python 3 (ipykernel)",
   "language": "python",
   "name": "python3"
  },
  "language_info": {
   "codemirror_mode": {
    "name": "ipython",
    "version": 3
   },
   "file_extension": ".py",
   "mimetype": "text/x-python",
   "name": "python",
   "nbconvert_exporter": "python",
   "pygments_lexer": "ipython3",
   "version": "3.8.11"
  }
 },
 "nbformat": 4,
 "nbformat_minor": 5
}
